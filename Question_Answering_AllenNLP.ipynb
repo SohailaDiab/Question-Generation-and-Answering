{
  "nbformat": 4,
  "nbformat_minor": 0,
  "metadata": {
    "colab": {
      "provenance": [],
      "collapsed_sections": [
        "yElTzEf4qnrO"
      ],
      "include_colab_link": true
    },
    "kernelspec": {
      "name": "python3",
      "display_name": "Python 3"
    },
    "language_info": {
      "name": "python"
    },
    "accelerator": "GPU"
  },
  "cells": [
    {
      "cell_type": "markdown",
      "metadata": {
        "id": "view-in-github",
        "colab_type": "text"
      },
      "source": [
        "<a href=\"https://colab.research.google.com/github/SohailaDiab/Question-Generation-and-Answering/blob/main/Question_Answering_AllenNLP.ipynb\" target=\"_parent\"><img src=\"https://colab.research.google.com/assets/colab-badge.svg\" alt=\"Open In Colab\"/></a>"
      ]
    },
    {
      "cell_type": "markdown",
      "source": [
        "# 1. Installations"
      ],
      "metadata": {
        "id": "yElTzEf4qnrO"
      }
    },
    {
      "cell_type": "code",
      "source": [
        "!pip install allennlp==2.1.0 allennlp-models==2.1.0\n",
        "!pip install git+https://github.com/explosion/spacy-transformers"
      ],
      "metadata": {
        "id": "DgP-Tv0qq5ZB"
      },
      "execution_count": null,
      "outputs": []
    },
    {
      "cell_type": "markdown",
      "source": [
        "# 2. Imports"
      ],
      "metadata": {
        "id": "HYmBvgRfqrAP"
      }
    },
    {
      "cell_type": "code",
      "source": [
        "import pandas as pd\n",
        "\n",
        "from allennlp.predictors.predictor import Predictor\n",
        "import allennlp_models.rc"
      ],
      "metadata": {
        "id": "F3qCUgURq9J7"
      },
      "execution_count": null,
      "outputs": []
    },
    {
      "cell_type": "markdown",
      "source": [
        "# 3. Load CSV File"
      ],
      "metadata": {
        "id": "iwshzHskxBsM"
      }
    },
    {
      "cell_type": "code",
      "execution_count": null,
      "metadata": {
        "colab": {
          "base_uri": "https://localhost:8080/"
        },
        "id": "8TBAFbjKnXMt",
        "outputId": "6d4ac6b1-2e9d-43fc-997a-f18fca8e1a0a"
      },
      "outputs": [
        {
          "output_type": "stream",
          "name": "stdout",
          "text": [
            "Mounted at /content/drive\n"
          ]
        }
      ],
      "source": [
        "from google.colab import drive\n",
        "drive.mount('/content/drive')"
      ]
    },
    {
      "cell_type": "code",
      "source": [
        "df = pd.read_csv('/content/drive/MyDrive/DeepLearning.csv')"
      ],
      "metadata": {
        "id": "AfkpLOu5pWVk"
      },
      "execution_count": null,
      "outputs": []
    },
    {
      "cell_type": "code",
      "source": [
        "df.head()"
      ],
      "metadata": {
        "colab": {
          "base_uri": "https://localhost:8080/",
          "height": 206
        },
        "id": "lExNlGNCpjwM",
        "outputId": "414e5fbe-2ea2-44b7-bf06-e3fc696ef694"
      },
      "execution_count": null,
      "outputs": [
        {
          "output_type": "execute_result",
          "data": {
            "text/plain": [
              "                                              phrase  \\\n",
              "0  no universally agreedupon threshold of depth d...   \n",
              "1  no universally agreedupon threshold of depth d...   \n",
              "2  deep learning is modern variation which is con...   \n",
              "3  deep learning is modern variation which is con...   \n",
              "4  in deep learning the layers are also permitted...   \n",
              "\n",
              "                                         t5_question               t5_answer  \n",
              "0  What is the term for a cap depth higher than c...  universal approximator  \n",
              "1  Is there a universally agreed upon threshold o...                      no  \n",
              "2  What is modern variation concerned with an unb...           deep learning  \n",
              "3  Under what conditions does deep learning retai...                    mild  \n",
              "4  What are layers allowed to deviate widely from...     the structured part  "
            ],
            "text/html": [
              "\n",
              "  <div id=\"df-c54f768f-2738-4a99-abf4-adcf06e6b79f\">\n",
              "    <div class=\"colab-df-container\">\n",
              "      <div>\n",
              "<style scoped>\n",
              "    .dataframe tbody tr th:only-of-type {\n",
              "        vertical-align: middle;\n",
              "    }\n",
              "\n",
              "    .dataframe tbody tr th {\n",
              "        vertical-align: top;\n",
              "    }\n",
              "\n",
              "    .dataframe thead th {\n",
              "        text-align: right;\n",
              "    }\n",
              "</style>\n",
              "<table border=\"1\" class=\"dataframe\">\n",
              "  <thead>\n",
              "    <tr style=\"text-align: right;\">\n",
              "      <th></th>\n",
              "      <th>phrase</th>\n",
              "      <th>t5_question</th>\n",
              "      <th>t5_answer</th>\n",
              "    </tr>\n",
              "  </thead>\n",
              "  <tbody>\n",
              "    <tr>\n",
              "      <th>0</th>\n",
              "      <td>no universally agreedupon threshold of depth d...</td>\n",
              "      <td>What is the term for a cap depth higher than c...</td>\n",
              "      <td>universal approximator</td>\n",
              "    </tr>\n",
              "    <tr>\n",
              "      <th>1</th>\n",
              "      <td>no universally agreedupon threshold of depth d...</td>\n",
              "      <td>Is there a universally agreed upon threshold o...</td>\n",
              "      <td>no</td>\n",
              "    </tr>\n",
              "    <tr>\n",
              "      <th>2</th>\n",
              "      <td>deep learning is modern variation which is con...</td>\n",
              "      <td>What is modern variation concerned with an unb...</td>\n",
              "      <td>deep learning</td>\n",
              "    </tr>\n",
              "    <tr>\n",
              "      <th>3</th>\n",
              "      <td>deep learning is modern variation which is con...</td>\n",
              "      <td>Under what conditions does deep learning retai...</td>\n",
              "      <td>mild</td>\n",
              "    </tr>\n",
              "    <tr>\n",
              "      <th>4</th>\n",
              "      <td>in deep learning the layers are also permitted...</td>\n",
              "      <td>What are layers allowed to deviate widely from...</td>\n",
              "      <td>the structured part</td>\n",
              "    </tr>\n",
              "  </tbody>\n",
              "</table>\n",
              "</div>\n",
              "      <button class=\"colab-df-convert\" onclick=\"convertToInteractive('df-c54f768f-2738-4a99-abf4-adcf06e6b79f')\"\n",
              "              title=\"Convert this dataframe to an interactive table.\"\n",
              "              style=\"display:none;\">\n",
              "        \n",
              "  <svg xmlns=\"http://www.w3.org/2000/svg\" height=\"24px\"viewBox=\"0 0 24 24\"\n",
              "       width=\"24px\">\n",
              "    <path d=\"M0 0h24v24H0V0z\" fill=\"none\"/>\n",
              "    <path d=\"M18.56 5.44l.94 2.06.94-2.06 2.06-.94-2.06-.94-.94-2.06-.94 2.06-2.06.94zm-11 1L8.5 8.5l.94-2.06 2.06-.94-2.06-.94L8.5 2.5l-.94 2.06-2.06.94zm10 10l.94 2.06.94-2.06 2.06-.94-2.06-.94-.94-2.06-.94 2.06-2.06.94z\"/><path d=\"M17.41 7.96l-1.37-1.37c-.4-.4-.92-.59-1.43-.59-.52 0-1.04.2-1.43.59L10.3 9.45l-7.72 7.72c-.78.78-.78 2.05 0 2.83L4 21.41c.39.39.9.59 1.41.59.51 0 1.02-.2 1.41-.59l7.78-7.78 2.81-2.81c.8-.78.8-2.07 0-2.86zM5.41 20L4 18.59l7.72-7.72 1.47 1.35L5.41 20z\"/>\n",
              "  </svg>\n",
              "      </button>\n",
              "      \n",
              "  <style>\n",
              "    .colab-df-container {\n",
              "      display:flex;\n",
              "      flex-wrap:wrap;\n",
              "      gap: 12px;\n",
              "    }\n",
              "\n",
              "    .colab-df-convert {\n",
              "      background-color: #E8F0FE;\n",
              "      border: none;\n",
              "      border-radius: 50%;\n",
              "      cursor: pointer;\n",
              "      display: none;\n",
              "      fill: #1967D2;\n",
              "      height: 32px;\n",
              "      padding: 0 0 0 0;\n",
              "      width: 32px;\n",
              "    }\n",
              "\n",
              "    .colab-df-convert:hover {\n",
              "      background-color: #E2EBFA;\n",
              "      box-shadow: 0px 1px 2px rgba(60, 64, 67, 0.3), 0px 1px 3px 1px rgba(60, 64, 67, 0.15);\n",
              "      fill: #174EA6;\n",
              "    }\n",
              "\n",
              "    [theme=dark] .colab-df-convert {\n",
              "      background-color: #3B4455;\n",
              "      fill: #D2E3FC;\n",
              "    }\n",
              "\n",
              "    [theme=dark] .colab-df-convert:hover {\n",
              "      background-color: #434B5C;\n",
              "      box-shadow: 0px 1px 3px 1px rgba(0, 0, 0, 0.15);\n",
              "      filter: drop-shadow(0px 1px 2px rgba(0, 0, 0, 0.3));\n",
              "      fill: #FFFFFF;\n",
              "    }\n",
              "  </style>\n",
              "\n",
              "      <script>\n",
              "        const buttonEl =\n",
              "          document.querySelector('#df-c54f768f-2738-4a99-abf4-adcf06e6b79f button.colab-df-convert');\n",
              "        buttonEl.style.display =\n",
              "          google.colab.kernel.accessAllowed ? 'block' : 'none';\n",
              "\n",
              "        async function convertToInteractive(key) {\n",
              "          const element = document.querySelector('#df-c54f768f-2738-4a99-abf4-adcf06e6b79f');\n",
              "          const dataTable =\n",
              "            await google.colab.kernel.invokeFunction('convertToInteractive',\n",
              "                                                     [key], {});\n",
              "          if (!dataTable) return;\n",
              "\n",
              "          const docLinkHtml = 'Like what you see? Visit the ' +\n",
              "            '<a target=\"_blank\" href=https://colab.research.google.com/notebooks/data_table.ipynb>data table notebook</a>'\n",
              "            + ' to learn more about interactive tables.';\n",
              "          element.innerHTML = '';\n",
              "          dataTable['output_type'] = 'display_data';\n",
              "          await google.colab.output.renderOutput(dataTable, element);\n",
              "          const docLink = document.createElement('div');\n",
              "          docLink.innerHTML = docLinkHtml;\n",
              "          element.appendChild(docLink);\n",
              "        }\n",
              "      </script>\n",
              "    </div>\n",
              "  </div>\n",
              "  "
            ]
          },
          "metadata": {},
          "execution_count": 5
        }
      ]
    },
    {
      "cell_type": "markdown",
      "source": [
        "# 4. Question Answering\n",
        "\n",
        "> Use questions generaed from T5 model as well as extracted phrases to generate an answer\n",
        "\n",
        "[HayStack Model Notebook](https://colab.research.google.com/drive/1pCbWxv9UVBh9WRQX9s2jq0xcqXk1H7Yi?usp=sharing)"
      ],
      "metadata": {
        "id": "gR1aLhdBquDu"
      }
    },
    {
      "cell_type": "markdown",
      "source": [
        "## AllenNLP"
      ],
      "metadata": {
        "id": "7l0nzsGh4HAP"
      }
    },
    {
      "cell_type": "code",
      "source": [
        "predictor = Predictor.from_path(\"https://storage.googleapis.com/allennlp-public-models/bidaf-elmo.2021-02-11.tar.gz\")"
      ],
      "metadata": {
        "colab": {
          "base_uri": "https://localhost:8080/"
        },
        "id": "-cWsgLoXpk8y",
        "outputId": "2f3d4ddc-b560-4049-9fbe-4023594ba592"
      },
      "execution_count": null,
      "outputs": [
        {
          "output_type": "stream",
          "name": "stderr",
          "text": [
            "[nltk_data] Downloading package punkt to /root/nltk_data...\n",
            "[nltk_data]   Unzipping tokenizers/punkt.zip.\n",
            "[nltk_data] Downloading package wordnet to /root/nltk_data...\n",
            "downloading: 100%|##########| 418118611/418118611 [00:06<00:00, 61376177.70B/s]\n",
            "downloading: 100%|##########| 336/336 [00:00<00:00, 165954.56B/s]\n",
            "downloading: 100%|##########| 374434792/374434792 [00:12<00:00, 29336354.60B/s]\n",
            "/usr/local/lib/python3.7/dist-packages/torch/nn/modules/container.py:435: UserWarning: Setting attributes on ParameterList is not supported.\n",
            "  warnings.warn(\"Setting attributes on ParameterList is not supported.\")\n"
          ]
        }
      ]
    },
    {
      "cell_type": "code",
      "source": [
        "allen_answers = []\n",
        "for i in range(df.shape[0]):\n",
        "  answer = predictor.predict(\n",
        "    passage=df.phrase[i],\n",
        "    question=df.t5_question[i]\n",
        "  )\n",
        "  allen_answers.append(answer['best_span_str'])"
      ],
      "metadata": {
        "colab": {
          "base_uri": "https://localhost:8080/"
        },
        "id": "vSN3W413rHUu",
        "outputId": "c06a9a31-da49-4449-dd6d-57ba3e602a5c"
      },
      "execution_count": null,
      "outputs": [
        {
          "output_type": "stream",
          "name": "stderr",
          "text": [
            "/usr/local/lib/python3.7/dist-packages/spacy/pipeline/lemmatizer.py:211: UserWarning: [W108] The rule-based lemmatizer did not find POS annotation for one or more tokens. Check that your pipeline includes components that assign token.pos, typically 'tagger'+'attribute_ruler' or 'morphologizer'.\n",
            "  warnings.warn(Warnings.W108)\n"
          ]
        }
      ]
    },
    {
      "cell_type": "code",
      "source": [
        "print(allen_answers)"
      ],
      "metadata": {
        "colab": {
          "base_uri": "https://localhost:8080/"
        },
        "id": "8TpO3F8y9aqC",
        "outputId": "73297e0c-10e8-4595-ee2f-c4bdd629a8ce"
      },
      "execution_count": null,
      "outputs": [
        {
          "output_type": "stream",
          "name": "stdout",
          "text": [
            "['universal approximator', 'no universally agreedupon threshold of depth', 'deep learning', 'mild conditions', 'to be heterogeneous', 'deep structured learning', 'artificial neural networks with representation learning', 'deep learning', 'deep learning', 'slightly more abstract and composite representation', 'deep learning', 'the number of layers', 'deep learning', 'the use of multiple layers in the network', 'artificial neural networks', 'artificial neural networks', 'deep learning', 'rina dechter', 'boolean threshold neurons', 'rina dechter', 'static and symbolic', 'biological brain', 'information processing and distributed communication nodes in biological systems', 'artificial neural networks anns', 'deep neural networks, deep belief networks, deep reinforcement learning, recurrent neural networks, convolutional neural networks and transformers', 'deeplearning architectures', 'alexey ivakhnenko and lapa', 'eight', 'deep models cap', 'deep belief networks', 'in an unsupervised manner', 'deep belief networks', 'deep belief networks', 'feedforward neural networks', 'feedforward neural networks', 'cap depth', 'recurrent neural networks', 'dropout', 'feedforward neural network', 'depth of the caps', 'image processing', 'edges', 'handtuning', 'more layers', 'supervised learning tasks', 'layered structures', 'deep learning algorithms', 'unsupervised learning tasks', 'unsupervised', 'the network', 'larger', 'the capacity of networks with bounded width', 'depth', 'universal approximation theorem or probabilistic inference', 'deep neural networks', 'universal approximation theorem or probabilistic inference', 'deep learning', 'credit assignment path cap depth', 'the chain of transformations from input to output', 'linear perceptron', 'linear perceptron', 'fourth layer', 'third layer', 'third layer', 'third layer', 'unlabeled data', 'kunihiko fukushima', 'neocognitron', 'deep learning process', 'greedy layerbylayer method', 'greedy layerbylayer method', 'greedy layerbylayer', 'frank rosenblatt']\n"
          ]
        }
      ]
    },
    {
      "cell_type": "code",
      "source": [
        "df['allen_answer'] = allen_answers"
      ],
      "metadata": {
        "id": "P5FNLgJjAvZT"
      },
      "execution_count": null,
      "outputs": []
    },
    {
      "cell_type": "code",
      "source": [
        "df.head()"
      ],
      "metadata": {
        "colab": {
          "base_uri": "https://localhost:8080/",
          "height": 337
        },
        "id": "mCFUk0xMBJRu",
        "outputId": "3133fe79-606b-4e06-b066-0c660e6b2307"
      },
      "execution_count": null,
      "outputs": [
        {
          "output_type": "execute_result",
          "data": {
            "text/plain": [
              "                                              phrase  \\\n",
              "0  no universally agreedupon threshold of depth d...   \n",
              "1  no universally agreedupon threshold of depth d...   \n",
              "2  deep learning is modern variation which is con...   \n",
              "3  deep learning is modern variation which is con...   \n",
              "4  in deep learning the layers are also permitted...   \n",
              "\n",
              "                                         t5_question               t5_answer  \\\n",
              "0  What is the term for a cap depth higher than c...  universal approximator   \n",
              "1  Is there a universally agreed upon threshold o...                      no   \n",
              "2  What is modern variation concerned with an unb...           deep learning   \n",
              "3  Under what conditions does deep learning retai...                    mild   \n",
              "4  What are layers allowed to deviate widely from...     the structured part   \n",
              "\n",
              "                                   allen_answer  similarity_score  \\\n",
              "0                        universal approximator               1.0   \n",
              "1  no universally agreedupon threshold of depth               1.0   \n",
              "2                                 deep learning               1.0   \n",
              "3                               mild conditions               1.0   \n",
              "4                           to be heterogeneous               1.0   \n",
              "\n",
              "   similarity_flag  \n",
              "0                1  \n",
              "1                1  \n",
              "2                1  \n",
              "3                1  \n",
              "4                1  "
            ],
            "text/html": [
              "\n",
              "  <div id=\"df-998f679f-e366-409f-8b7b-d7f9bd422fe4\">\n",
              "    <div class=\"colab-df-container\">\n",
              "      <div>\n",
              "<style scoped>\n",
              "    .dataframe tbody tr th:only-of-type {\n",
              "        vertical-align: middle;\n",
              "    }\n",
              "\n",
              "    .dataframe tbody tr th {\n",
              "        vertical-align: top;\n",
              "    }\n",
              "\n",
              "    .dataframe thead th {\n",
              "        text-align: right;\n",
              "    }\n",
              "</style>\n",
              "<table border=\"1\" class=\"dataframe\">\n",
              "  <thead>\n",
              "    <tr style=\"text-align: right;\">\n",
              "      <th></th>\n",
              "      <th>phrase</th>\n",
              "      <th>t5_question</th>\n",
              "      <th>t5_answer</th>\n",
              "      <th>allen_answer</th>\n",
              "      <th>similarity_score</th>\n",
              "      <th>similarity_flag</th>\n",
              "    </tr>\n",
              "  </thead>\n",
              "  <tbody>\n",
              "    <tr>\n",
              "      <th>0</th>\n",
              "      <td>no universally agreedupon threshold of depth d...</td>\n",
              "      <td>What is the term for a cap depth higher than c...</td>\n",
              "      <td>universal approximator</td>\n",
              "      <td>universal approximator</td>\n",
              "      <td>1.0</td>\n",
              "      <td>1</td>\n",
              "    </tr>\n",
              "    <tr>\n",
              "      <th>1</th>\n",
              "      <td>no universally agreedupon threshold of depth d...</td>\n",
              "      <td>Is there a universally agreed upon threshold o...</td>\n",
              "      <td>no</td>\n",
              "      <td>no universally agreedupon threshold of depth</td>\n",
              "      <td>1.0</td>\n",
              "      <td>1</td>\n",
              "    </tr>\n",
              "    <tr>\n",
              "      <th>2</th>\n",
              "      <td>deep learning is modern variation which is con...</td>\n",
              "      <td>What is modern variation concerned with an unb...</td>\n",
              "      <td>deep learning</td>\n",
              "      <td>deep learning</td>\n",
              "      <td>1.0</td>\n",
              "      <td>1</td>\n",
              "    </tr>\n",
              "    <tr>\n",
              "      <th>3</th>\n",
              "      <td>deep learning is modern variation which is con...</td>\n",
              "      <td>Under what conditions does deep learning retai...</td>\n",
              "      <td>mild</td>\n",
              "      <td>mild conditions</td>\n",
              "      <td>1.0</td>\n",
              "      <td>1</td>\n",
              "    </tr>\n",
              "    <tr>\n",
              "      <th>4</th>\n",
              "      <td>in deep learning the layers are also permitted...</td>\n",
              "      <td>What are layers allowed to deviate widely from...</td>\n",
              "      <td>the structured part</td>\n",
              "      <td>to be heterogeneous</td>\n",
              "      <td>1.0</td>\n",
              "      <td>1</td>\n",
              "    </tr>\n",
              "  </tbody>\n",
              "</table>\n",
              "</div>\n",
              "      <button class=\"colab-df-convert\" onclick=\"convertToInteractive('df-998f679f-e366-409f-8b7b-d7f9bd422fe4')\"\n",
              "              title=\"Convert this dataframe to an interactive table.\"\n",
              "              style=\"display:none;\">\n",
              "        \n",
              "  <svg xmlns=\"http://www.w3.org/2000/svg\" height=\"24px\"viewBox=\"0 0 24 24\"\n",
              "       width=\"24px\">\n",
              "    <path d=\"M0 0h24v24H0V0z\" fill=\"none\"/>\n",
              "    <path d=\"M18.56 5.44l.94 2.06.94-2.06 2.06-.94-2.06-.94-.94-2.06-.94 2.06-2.06.94zm-11 1L8.5 8.5l.94-2.06 2.06-.94-2.06-.94L8.5 2.5l-.94 2.06-2.06.94zm10 10l.94 2.06.94-2.06 2.06-.94-2.06-.94-.94-2.06-.94 2.06-2.06.94z\"/><path d=\"M17.41 7.96l-1.37-1.37c-.4-.4-.92-.59-1.43-.59-.52 0-1.04.2-1.43.59L10.3 9.45l-7.72 7.72c-.78.78-.78 2.05 0 2.83L4 21.41c.39.39.9.59 1.41.59.51 0 1.02-.2 1.41-.59l7.78-7.78 2.81-2.81c.8-.78.8-2.07 0-2.86zM5.41 20L4 18.59l7.72-7.72 1.47 1.35L5.41 20z\"/>\n",
              "  </svg>\n",
              "      </button>\n",
              "      \n",
              "  <style>\n",
              "    .colab-df-container {\n",
              "      display:flex;\n",
              "      flex-wrap:wrap;\n",
              "      gap: 12px;\n",
              "    }\n",
              "\n",
              "    .colab-df-convert {\n",
              "      background-color: #E8F0FE;\n",
              "      border: none;\n",
              "      border-radius: 50%;\n",
              "      cursor: pointer;\n",
              "      display: none;\n",
              "      fill: #1967D2;\n",
              "      height: 32px;\n",
              "      padding: 0 0 0 0;\n",
              "      width: 32px;\n",
              "    }\n",
              "\n",
              "    .colab-df-convert:hover {\n",
              "      background-color: #E2EBFA;\n",
              "      box-shadow: 0px 1px 2px rgba(60, 64, 67, 0.3), 0px 1px 3px 1px rgba(60, 64, 67, 0.15);\n",
              "      fill: #174EA6;\n",
              "    }\n",
              "\n",
              "    [theme=dark] .colab-df-convert {\n",
              "      background-color: #3B4455;\n",
              "      fill: #D2E3FC;\n",
              "    }\n",
              "\n",
              "    [theme=dark] .colab-df-convert:hover {\n",
              "      background-color: #434B5C;\n",
              "      box-shadow: 0px 1px 3px 1px rgba(0, 0, 0, 0.15);\n",
              "      filter: drop-shadow(0px 1px 2px rgba(0, 0, 0, 0.3));\n",
              "      fill: #FFFFFF;\n",
              "    }\n",
              "  </style>\n",
              "\n",
              "      <script>\n",
              "        const buttonEl =\n",
              "          document.querySelector('#df-998f679f-e366-409f-8b7b-d7f9bd422fe4 button.colab-df-convert');\n",
              "        buttonEl.style.display =\n",
              "          google.colab.kernel.accessAllowed ? 'block' : 'none';\n",
              "\n",
              "        async function convertToInteractive(key) {\n",
              "          const element = document.querySelector('#df-998f679f-e366-409f-8b7b-d7f9bd422fe4');\n",
              "          const dataTable =\n",
              "            await google.colab.kernel.invokeFunction('convertToInteractive',\n",
              "                                                     [key], {});\n",
              "          if (!dataTable) return;\n",
              "\n",
              "          const docLinkHtml = 'Like what you see? Visit the ' +\n",
              "            '<a target=\"_blank\" href=https://colab.research.google.com/notebooks/data_table.ipynb>data table notebook</a>'\n",
              "            + ' to learn more about interactive tables.';\n",
              "          element.innerHTML = '';\n",
              "          dataTable['output_type'] = 'display_data';\n",
              "          await google.colab.output.renderOutput(dataTable, element);\n",
              "          const docLink = document.createElement('div');\n",
              "          docLink.innerHTML = docLinkHtml;\n",
              "          element.appendChild(docLink);\n",
              "        }\n",
              "      </script>\n",
              "    </div>\n",
              "  </div>\n",
              "  "
            ]
          },
          "metadata": {},
          "execution_count": 39
        }
      ]
    },
    {
      "cell_type": "code",
      "source": [
        "# path = '/content/drive/My Drive/DeepLearning_allen.csv'\n",
        "\n",
        "# with open(path, 'w', encoding = 'utf-8-sig') as f:\n",
        "#   df.to_csv(f, index = False)"
      ],
      "metadata": {
        "id": "8nsfuZhnBMIV"
      },
      "execution_count": null,
      "outputs": []
    }
  ]
}