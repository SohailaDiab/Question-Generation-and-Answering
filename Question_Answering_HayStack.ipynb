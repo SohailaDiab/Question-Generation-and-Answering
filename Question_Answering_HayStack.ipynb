{
  "nbformat": 4,
  "nbformat_minor": 0,
  "metadata": {
    "colab": {
      "provenance": [],
      "include_colab_link": true
    },
    "kernelspec": {
      "name": "python3",
      "display_name": "Python 3"
    },
    "language_info": {
      "name": "python"
    }
  },
  "cells": [
    {
      "cell_type": "markdown",
      "metadata": {
        "id": "view-in-github",
        "colab_type": "text"
      },
      "source": [
        "<a href=\"https://colab.research.google.com/github/SohailaDiab/Question-Generation-and-Answering/blob/main/Question_Answering_HayStack.ipynb\" target=\"_parent\"><img src=\"https://colab.research.google.com/assets/colab-badge.svg\" alt=\"Open In Colab\"/></a>"
      ]
    },
    {
      "cell_type": "markdown",
      "source": [
        "# 1. Installations"
      ],
      "metadata": {
        "id": "e3OiY1aKIV2R"
      }
    },
    {
      "cell_type": "code",
      "source": [
        "%%bash\n",
        "pip install --upgrade pip\n",
        "pip install git+https://github.com/deepset-ai/haystack.git#egg=farm-haystack[colab]"
      ],
      "metadata": {
        "id": "FnTtWGDLIm6k"
      },
      "execution_count": null,
      "outputs": []
    },
    {
      "cell_type": "markdown",
      "source": [
        "# 2. Imports"
      ],
      "metadata": {
        "id": "eK3PYkrIIVz4"
      }
    },
    {
      "cell_type": "code",
      "source": [
        "from haystack.pipelines import ExtractiveQAPipeline\n",
        "from haystack.nodes import TransformersReader\n",
        "from haystack.nodes import TfidfRetriever\n",
        "\n",
        "from haystack.document_stores import InMemoryDocumentStore\n",
        "# Prediction\n",
        "from haystack.utils import print_answers\n",
        "\n",
        "import pandas as pd"
      ],
      "metadata": {
        "id": "nGpM5mWBIqmR"
      },
      "execution_count": null,
      "outputs": []
    },
    {
      "cell_type": "markdown",
      "source": [
        "# 3. Load CSV File"
      ],
      "metadata": {
        "id": "W5PSad7bIVxX"
      }
    },
    {
      "cell_type": "code",
      "source": [
        "from google.colab import drive\n",
        "drive.mount('/content/drive')"
      ],
      "metadata": {
        "colab": {
          "base_uri": "https://localhost:8080/"
        },
        "id": "Wvis6RP-Ju3S",
        "outputId": "9af2b060-9b29-4615-a4ec-5ab51ff7c493"
      },
      "execution_count": null,
      "outputs": [
        {
          "output_type": "stream",
          "name": "stdout",
          "text": [
            "Mounted at /content/drive\n"
          ]
        }
      ]
    },
    {
      "cell_type": "code",
      "source": [
        "df = pd.read_csv('/content/drive/MyDrive/DeepLearning_allen.csv')"
      ],
      "metadata": {
        "id": "yY5tTaJNJuxB"
      },
      "execution_count": null,
      "outputs": []
    },
    {
      "cell_type": "code",
      "source": [
        "df.head()"
      ],
      "metadata": {
        "colab": {
          "base_uri": "https://localhost:8080/",
          "height": 337
        },
        "id": "7TTxuzZmKHor",
        "outputId": "62f25185-fe71-4e90-89ed-7a8161ee6958"
      },
      "execution_count": null,
      "outputs": [
        {
          "output_type": "execute_result",
          "data": {
            "text/plain": [
              "                                                                            phrase  \\\n",
              "0  no universally agreedupon threshold of depth divides shallow learning from d...   \n",
              "1  no universally agreedupon threshold of depth divides shallow learning from d...   \n",
              "2  deep learning is modern variation which is concerned with an unbounded numbe...   \n",
              "3  deep learning is modern variation which is concerned with an unbounded numbe...   \n",
              "4  in deep learning the layers are also permitted to be heterogeneous and to de...   \n",
              "\n",
              "                                                                       t5_question  \\\n",
              "0                       What is the term for a cap depth higher than cap of depth?   \n",
              "1  Is there a universally agreed upon threshold of depth that divides shallow l...   \n",
              "2  What is modern variation concerned with an unbounded number of layers of bou...   \n",
              "3        Under what conditions does deep learning retain theoretical universality?   \n",
              "4  What are layers allowed to deviate widely from biologically informed connect...   \n",
              "\n",
              "                t5_answer                                  allen_answer  \\\n",
              "0  universal approximator                        universal approximator   \n",
              "1                      no  no universally agreedupon threshold of depth   \n",
              "2           deep learning                                 deep learning   \n",
              "3                    mild                               mild conditions   \n",
              "4     the structured part                           to be heterogeneous   \n",
              "\n",
              "                                                           haystack_answer  \n",
              "0                                                           neural network  \n",
              "1  deep models cap are able to extract better features than shallow models  \n",
              "2                                                            deep learning  \n",
              "3                                                                     mild  \n",
              "4                                                            heterogeneous  "
            ],
            "text/html": [
              "\n",
              "  <div id=\"df-29789ff8-f6ef-4f44-86f6-d1138a17738e\">\n",
              "    <div class=\"colab-df-container\">\n",
              "      <div>\n",
              "<style scoped>\n",
              "    .dataframe tbody tr th:only-of-type {\n",
              "        vertical-align: middle;\n",
              "    }\n",
              "\n",
              "    .dataframe tbody tr th {\n",
              "        vertical-align: top;\n",
              "    }\n",
              "\n",
              "    .dataframe thead th {\n",
              "        text-align: right;\n",
              "    }\n",
              "</style>\n",
              "<table border=\"1\" class=\"dataframe\">\n",
              "  <thead>\n",
              "    <tr style=\"text-align: right;\">\n",
              "      <th></th>\n",
              "      <th>phrase</th>\n",
              "      <th>t5_question</th>\n",
              "      <th>t5_answer</th>\n",
              "      <th>allen_answer</th>\n",
              "      <th>haystack_answer</th>\n",
              "    </tr>\n",
              "  </thead>\n",
              "  <tbody>\n",
              "    <tr>\n",
              "      <th>0</th>\n",
              "      <td>no universally agreedupon threshold of depth divides shallow learning from d...</td>\n",
              "      <td>What is the term for a cap depth higher than cap of depth?</td>\n",
              "      <td>universal approximator</td>\n",
              "      <td>universal approximator</td>\n",
              "      <td>neural network</td>\n",
              "    </tr>\n",
              "    <tr>\n",
              "      <th>1</th>\n",
              "      <td>no universally agreedupon threshold of depth divides shallow learning from d...</td>\n",
              "      <td>Is there a universally agreed upon threshold of depth that divides shallow l...</td>\n",
              "      <td>no</td>\n",
              "      <td>no universally agreedupon threshold of depth</td>\n",
              "      <td>deep models cap are able to extract better features than shallow models</td>\n",
              "    </tr>\n",
              "    <tr>\n",
              "      <th>2</th>\n",
              "      <td>deep learning is modern variation which is concerned with an unbounded numbe...</td>\n",
              "      <td>What is modern variation concerned with an unbounded number of layers of bou...</td>\n",
              "      <td>deep learning</td>\n",
              "      <td>deep learning</td>\n",
              "      <td>deep learning</td>\n",
              "    </tr>\n",
              "    <tr>\n",
              "      <th>3</th>\n",
              "      <td>deep learning is modern variation which is concerned with an unbounded numbe...</td>\n",
              "      <td>Under what conditions does deep learning retain theoretical universality?</td>\n",
              "      <td>mild</td>\n",
              "      <td>mild conditions</td>\n",
              "      <td>mild</td>\n",
              "    </tr>\n",
              "    <tr>\n",
              "      <th>4</th>\n",
              "      <td>in deep learning the layers are also permitted to be heterogeneous and to de...</td>\n",
              "      <td>What are layers allowed to deviate widely from biologically informed connect...</td>\n",
              "      <td>the structured part</td>\n",
              "      <td>to be heterogeneous</td>\n",
              "      <td>heterogeneous</td>\n",
              "    </tr>\n",
              "  </tbody>\n",
              "</table>\n",
              "</div>\n",
              "      <button class=\"colab-df-convert\" onclick=\"convertToInteractive('df-29789ff8-f6ef-4f44-86f6-d1138a17738e')\"\n",
              "              title=\"Convert this dataframe to an interactive table.\"\n",
              "              style=\"display:none;\">\n",
              "        \n",
              "  <svg xmlns=\"http://www.w3.org/2000/svg\" height=\"24px\"viewBox=\"0 0 24 24\"\n",
              "       width=\"24px\">\n",
              "    <path d=\"M0 0h24v24H0V0z\" fill=\"none\"/>\n",
              "    <path d=\"M18.56 5.44l.94 2.06.94-2.06 2.06-.94-2.06-.94-.94-2.06-.94 2.06-2.06.94zm-11 1L8.5 8.5l.94-2.06 2.06-.94-2.06-.94L8.5 2.5l-.94 2.06-2.06.94zm10 10l.94 2.06.94-2.06 2.06-.94-2.06-.94-.94-2.06-.94 2.06-2.06.94z\"/><path d=\"M17.41 7.96l-1.37-1.37c-.4-.4-.92-.59-1.43-.59-.52 0-1.04.2-1.43.59L10.3 9.45l-7.72 7.72c-.78.78-.78 2.05 0 2.83L4 21.41c.39.39.9.59 1.41.59.51 0 1.02-.2 1.41-.59l7.78-7.78 2.81-2.81c.8-.78.8-2.07 0-2.86zM5.41 20L4 18.59l7.72-7.72 1.47 1.35L5.41 20z\"/>\n",
              "  </svg>\n",
              "      </button>\n",
              "      \n",
              "  <style>\n",
              "    .colab-df-container {\n",
              "      display:flex;\n",
              "      flex-wrap:wrap;\n",
              "      gap: 12px;\n",
              "    }\n",
              "\n",
              "    .colab-df-convert {\n",
              "      background-color: #E8F0FE;\n",
              "      border: none;\n",
              "      border-radius: 50%;\n",
              "      cursor: pointer;\n",
              "      display: none;\n",
              "      fill: #1967D2;\n",
              "      height: 32px;\n",
              "      padding: 0 0 0 0;\n",
              "      width: 32px;\n",
              "    }\n",
              "\n",
              "    .colab-df-convert:hover {\n",
              "      background-color: #E2EBFA;\n",
              "      box-shadow: 0px 1px 2px rgba(60, 64, 67, 0.3), 0px 1px 3px 1px rgba(60, 64, 67, 0.15);\n",
              "      fill: #174EA6;\n",
              "    }\n",
              "\n",
              "    [theme=dark] .colab-df-convert {\n",
              "      background-color: #3B4455;\n",
              "      fill: #D2E3FC;\n",
              "    }\n",
              "\n",
              "    [theme=dark] .colab-df-convert:hover {\n",
              "      background-color: #434B5C;\n",
              "      box-shadow: 0px 1px 3px 1px rgba(0, 0, 0, 0.15);\n",
              "      filter: drop-shadow(0px 1px 2px rgba(0, 0, 0, 0.3));\n",
              "      fill: #FFFFFF;\n",
              "    }\n",
              "  </style>\n",
              "\n",
              "      <script>\n",
              "        const buttonEl =\n",
              "          document.querySelector('#df-29789ff8-f6ef-4f44-86f6-d1138a17738e button.colab-df-convert');\n",
              "        buttonEl.style.display =\n",
              "          google.colab.kernel.accessAllowed ? 'block' : 'none';\n",
              "\n",
              "        async function convertToInteractive(key) {\n",
              "          const element = document.querySelector('#df-29789ff8-f6ef-4f44-86f6-d1138a17738e');\n",
              "          const dataTable =\n",
              "            await google.colab.kernel.invokeFunction('convertToInteractive',\n",
              "                                                     [key], {});\n",
              "          if (!dataTable) return;\n",
              "\n",
              "          const docLinkHtml = 'Like what you see? Visit the ' +\n",
              "            '<a target=\"_blank\" href=https://colab.research.google.com/notebooks/data_table.ipynb>data table notebook</a>'\n",
              "            + ' to learn more about interactive tables.';\n",
              "          element.innerHTML = '';\n",
              "          dataTable['output_type'] = 'display_data';\n",
              "          await google.colab.output.renderOutput(dataTable, element);\n",
              "          const docLink = document.createElement('div');\n",
              "          docLink.innerHTML = docLinkHtml;\n",
              "          element.appendChild(docLink);\n",
              "        }\n",
              "      </script>\n",
              "    </div>\n",
              "  </div>\n",
              "  "
            ]
          },
          "metadata": {},
          "execution_count": 51
        }
      ]
    },
    {
      "cell_type": "code",
      "source": [
        "phraselist = list(dict.fromkeys(df['phrase'].values))\n",
        "print(phraselist)"
      ],
      "metadata": {
        "colab": {
          "base_uri": "https://localhost:8080/"
        },
        "id": "rz8JXoDPKNZL",
        "outputId": "a72cdbf2-e539-4a09-e7c3-245be084d66e"
      },
      "execution_count": null,
      "outputs": [
        {
          "output_type": "stream",
          "name": "stdout",
          "text": [
            "['no universally agreedupon threshold of depth divides shallow learning from deep learning, but most researchers agree that deep learning involves cap depth higher than cap of depth has been shown to be universal approximator in the sense that it can emulate any function.', 'deep learning is modern variation which is concerned with an unbounded number of layers of bounded size, which permits practical application and optimized implementation, while retaining theoretical universality under mild conditions.', 'in deep learning the layers are also permitted to be heterogeneous and to deviate widely from biologically informed connectionist models, for the sake of efficiency, trainability and understandability, hence the structured part.', 'deep learning also known as deep structured learning is part of broader family of machine learning methods based on artificial neural networks with representation learning.', 'definition\\ndeep learning is class of machine learning algorithms that\\u200a–\\u200a uses multiple layers to progressively extract higherlevel features from the raw input.', 'in deep learning, each level learns to transform its input data into slightly more abstract and composite representation.', 'deep learning helps to disentangle these abstractions and pick out which features improve performance.', 'the word deep in deep learning refers to the number of layers through which the data is transformed.', 'the adjective deep in deep learning refers to the use of multiple layers in the network.', 'overview\\nmost modern deep learning models are based on artificial neural networks, specifically convolutional neural networks cnns, although they can also include propositional formulas or latent variables organized layerwise in deep generative models such as the nodes in deep belief networks and deep boltzmann machines.', 'the term deep learning was introduced to the machine learning community by rina dechter in and to artificial neural networks by igor aizenberg and colleagues in in the context of boolean threshold neurons.', 'specifically, artificial neural networks tend to be static and symbolic, while the biological brain of most living organisms is dynamic plastic and analogue.', 'artificial neural networks anns were inspired by information processing and distributed communication nodes in biological systems.', 'deeplearning architectures such as deep neural networks, deep belief networks, deep reinforcement learning, recurrent neural networks, convolutional neural networks and transformers have been applied to fields including computer vision, speech recognition, natural language processing, machine translation, bioinformatics, drug design, medical image analysis, climate science, material inspection and board game programs, where they have produced results comparable to and in some cases surpassing human expert performance.', 'the first general, working learning algorithm for supervised, deep, feedforward, multilayer perceptrons was published by alexey ivakhnenko and lapa in a paper described deep network with eight layers trained by the group method of data handling.', 'deep models cap are able to extract better features than shallow models and hence, extra layers help in learning the features effectively.', 'examples of deep structures that can be trained in an unsupervised manner are deep belief networks.', 'the classic universal approximation theorem concerns the capacity of feedforward neural networks with single hidden layer of finite size to approximate continuous functions.', 'for recurrent neural networks, in which signal may propagate through layer more than once, the cap depth is potentially unlimited.', 'the probabilistic interpretation led to the introduction of dropout as regularizer in neural networks.', 'for feedforward neural network, the depth of the caps is that of the network and is the number of hidden layers plus one as the output layer is also parameterized.', 'for example, in image processing, lower layers may identify edges, while higher layers may identify the concepts relevant to human such as digits or letters or faces.', 'this does not eliminate the need for handtuning for example, varying numbers of layers and layer sizes can provide different degrees of abstraction.', 'beyond that, more layers do not add to the function approximator ability of the network.', 'for supervised learning tasks, deep learning methods eliminate feature engineering, by translating the data into compact intermediate representations akin to principal components, and derive layered structures that remove redundancy in representation.', 'deep learning algorithms can be applied to unsupervised learning tasks.', 'learning can be supervised, semisupervised or unsupervised.', 'proved that if the width of deep neural network with relu activation is strictly larger than the input dimension, then the network can approximate any lebesgue integrable function if the width is smaller or equal to the input dimension, then deep neural network is not universal approximator.', 'the universal approximation theorem for deep neural networks concerns the capacity of networks with bounded width but the depth is allowed to grow.', 'interpretations\\ndeep neural networks are generally interpreted in terms of the universal approximation theorem or probabilistic inference.', 'more precisely, deep learning systems have substantial credit assignment path cap depth.', 'the cap is the chain of transformations from input to output.', 'early work showed that linear perceptron cannot be universal classifier, but that network with nonpolynomial activation function with one hidden layer of unbounded width can.', 'in an image recognition application, the raw input may be matrix of pixels the first representational layer may abstract the pixels and encode edges the second layer may compose and encode arrangements of edges the third layer may encode nose and eyes and the fourth layer may recognize that the image contains face.', 'this is an important benefit because unlabeled data are more abundant than the labeled data.', 'other deep learning working architectures, specifically those built for computer vision, began with the neocognitron introduced by kunihiko fukushima in .', 'importantly, deep learning process can learn which features to optimally place in which level on its own.', 'deep learning architectures can be constructed with greedy layerbylayer method.', 'history\\nsome sources point out that frank rosenblatt developed and explored all of the basic ingredients of the deep learning systems of today.']\n"
          ]
        }
      ]
    },
    {
      "cell_type": "markdown",
      "source": [
        "# 4. Question Answering\n",
        "\n",
        "> Use questions generaed from T5 model as well as extracted phrases to generate an answer\n",
        "\n",
        "[AllenNLP Model Notebook](https://colab.research.google.com/drive/1Z36CF3CeNGY4IV7XmhH8Hw8hfrKEzecb?usp=sharing)"
      ],
      "metadata": {
        "id": "ZV-KuBydIVp4"
      }
    },
    {
      "cell_type": "markdown",
      "source": [
        "## HayStack"
      ],
      "metadata": {
        "id": "EjZehOYXIftO"
      }
    },
    {
      "cell_type": "markdown",
      "source": [
        "### Pipeline"
      ],
      "metadata": {
        "id": "Tv6Fr9fzIu0Q"
      }
    },
    {
      "cell_type": "code",
      "execution_count": null,
      "metadata": {
        "id": "nf12KWLNG64V"
      },
      "outputs": [],
      "source": [
        "phrases = ''.join(phraselist)\n",
        "doc = [{\"content\": phrases}]\n",
        "\n",
        "document_store2 = InMemoryDocumentStore()\n",
        "document_store2.write_documents(doc)\n",
        "\n",
        "reader = TransformersReader(model_name_or_path=\"distilbert-base-uncased-distilled-squad\", tokenizer=\"distilbert-base-uncased\", use_gpu=-1)\n",
        "retriever = TfidfRetriever(document_store=document_store2)\n",
        "\n",
        "pipe = ExtractiveQAPipeline(reader, retriever)"
      ]
    },
    {
      "cell_type": "markdown",
      "source": [
        "### Prediction"
      ],
      "metadata": {
        "id": "uNUVm7R0I0KJ"
      }
    },
    {
      "cell_type": "code",
      "source": [
        "prediction = pipe.run(\n",
        "    query=\"\", params={\"Retriever\": {\"top_k\": 10}, \"Reader\": {\"top_k\": 5}}\n",
        ")"
      ],
      "metadata": {
        "id": "_lMpwgjLI1g8"
      },
      "execution_count": null,
      "outputs": []
    },
    {
      "cell_type": "code",
      "source": [
        "prediction['answers'][0].answer"
      ],
      "metadata": {
        "colab": {
          "base_uri": "https://localhost:8080/",
          "height": 35
        },
        "id": "aOGVhsxqRSTc",
        "outputId": "fdd05013-b9bb-464d-83ee-ed4f18339c66"
      },
      "execution_count": null,
      "outputs": [
        {
          "output_type": "execute_result",
          "data": {
            "text/plain": [
              "'deep learning'"
            ],
            "application/vnd.google.colaboratory.intrinsic+json": {
              "type": "string"
            }
          },
          "metadata": {},
          "execution_count": 41
        }
      ]
    },
    {
      "cell_type": "code",
      "source": [
        "hay_answers = []\n",
        "for i in range(df.shape[0]):\n",
        "  prediction = pipe.run(\n",
        "    query=df.t5_question[i], params={\"Retriever\": {\"top_k\": 10}, \"Reader\": {\"top_k\": 5}}\n",
        "  )\n",
        "\n",
        "  hay_answers.append(prediction['answers'][0].answer)"
      ],
      "metadata": {
        "id": "KZxXv7ToMjz7"
      },
      "execution_count": null,
      "outputs": []
    },
    {
      "cell_type": "code",
      "source": [
        "print(hay_answers)"
      ],
      "metadata": {
        "colab": {
          "base_uri": "https://localhost:8080/"
        },
        "id": "RGv3pKhDTUVo",
        "outputId": "cf13afd4-b774-4245-cf4a-a1f52da5f887"
      },
      "execution_count": null,
      "outputs": [
        {
          "output_type": "stream",
          "name": "stdout",
          "text": [
            "['neural network', 'deep models cap are able to extract better features than shallow models', 'deep learning', 'mild', 'heterogeneous', 'deep structured learning', 'artificial neural networks', 'deep models cap', 'deep learning', 'compact intermediate representations', 'deep learning', 'the number of layers through which the data is transformed', 'deep in deep learning', 'the use of multiple layers in the network', 'artificial neural networks', 'artificial neural networks', 'deep learning', 'rina dechter', 'artificial neural', 'rina dechter', 'static and symbolic', 'structured', 'representation learning', 'artificial neural networks', 'deep belief networks', 'deep belief networks', 'frank rosenblatt', 'multiple', 'deep belief networks', 'deep belief networks', 'greedy layerbylayer method', 'deep belief networks', 'deep belief networks', 'networks', 'networks', 'deeplearning architectures', 'deep models', 'dropout', 'deep models', 'eight', 'deep learning', 'edges', 'handtuning', 'more layers', 'supervised learning tasks', 'layered structures', 'deep learning algorithms', 'unsupervised learning tasks', 'unsupervised', 'the network', 'deep learning', 'the capacity of networks with bounded width', 'depth', 'representation learning', 'dropout', 'representation learning', 'deep models', 'credit', 'the chain of transformations from input to output', 'linear perceptron', 'linear perceptron', 'medical', 'deep network', 'deep network', 'deep network', 'credit assignment path cap depth', 'rina dechter', 'deep belief networks', 'performance', 'deep learning algorithms', 'deep learning algorithms', 'neocognitron', 'frank rosenblatt']\n"
          ]
        }
      ]
    },
    {
      "cell_type": "code",
      "source": [
        "df['haystack_answer'] = hay_answers "
      ],
      "metadata": {
        "id": "xNOqZA9gTY2S"
      },
      "execution_count": null,
      "outputs": []
    },
    {
      "cell_type": "code",
      "source": [
        "df.head()"
      ],
      "metadata": {
        "colab": {
          "base_uri": "https://localhost:8080/",
          "height": 337
        },
        "id": "wvHtO98TVHVl",
        "outputId": "c529bdd7-2bca-453f-e4f3-33fe6ec9ba15"
      },
      "execution_count": null,
      "outputs": [
        {
          "output_type": "execute_result",
          "data": {
            "text/plain": [
              "                                                                            phrase  \\\n",
              "0  no universally agreedupon threshold of depth divides shallow learning from d...   \n",
              "1  no universally agreedupon threshold of depth divides shallow learning from d...   \n",
              "2  deep learning is modern variation which is concerned with an unbounded numbe...   \n",
              "3  deep learning is modern variation which is concerned with an unbounded numbe...   \n",
              "4  in deep learning the layers are also permitted to be heterogeneous and to de...   \n",
              "\n",
              "                                                                       t5_question  \\\n",
              "0                       What is the term for a cap depth higher than cap of depth?   \n",
              "1  Is there a universally agreed upon threshold of depth that divides shallow l...   \n",
              "2  What is modern variation concerned with an unbounded number of layers of bou...   \n",
              "3        Under what conditions does deep learning retain theoretical universality?   \n",
              "4  What are layers allowed to deviate widely from biologically informed connect...   \n",
              "\n",
              "                t5_answer                                  allen_answer  \\\n",
              "0  universal approximator                        universal approximator   \n",
              "1                      no  no universally agreedupon threshold of depth   \n",
              "2           deep learning                                 deep learning   \n",
              "3                    mild                               mild conditions   \n",
              "4     the structured part                           to be heterogeneous   \n",
              "\n",
              "                                                           haystack_answer  \n",
              "0                                                           neural network  \n",
              "1  deep models cap are able to extract better features than shallow models  \n",
              "2                                                            deep learning  \n",
              "3                                                                     mild  \n",
              "4                                                            heterogeneous  "
            ],
            "text/html": [
              "\n",
              "  <div id=\"df-0b4c10eb-fdbc-4ae4-88ea-3c5f8015ed94\">\n",
              "    <div class=\"colab-df-container\">\n",
              "      <div>\n",
              "<style scoped>\n",
              "    .dataframe tbody tr th:only-of-type {\n",
              "        vertical-align: middle;\n",
              "    }\n",
              "\n",
              "    .dataframe tbody tr th {\n",
              "        vertical-align: top;\n",
              "    }\n",
              "\n",
              "    .dataframe thead th {\n",
              "        text-align: right;\n",
              "    }\n",
              "</style>\n",
              "<table border=\"1\" class=\"dataframe\">\n",
              "  <thead>\n",
              "    <tr style=\"text-align: right;\">\n",
              "      <th></th>\n",
              "      <th>phrase</th>\n",
              "      <th>t5_question</th>\n",
              "      <th>t5_answer</th>\n",
              "      <th>allen_answer</th>\n",
              "      <th>haystack_answer</th>\n",
              "    </tr>\n",
              "  </thead>\n",
              "  <tbody>\n",
              "    <tr>\n",
              "      <th>0</th>\n",
              "      <td>no universally agreedupon threshold of depth divides shallow learning from d...</td>\n",
              "      <td>What is the term for a cap depth higher than cap of depth?</td>\n",
              "      <td>universal approximator</td>\n",
              "      <td>universal approximator</td>\n",
              "      <td>neural network</td>\n",
              "    </tr>\n",
              "    <tr>\n",
              "      <th>1</th>\n",
              "      <td>no universally agreedupon threshold of depth divides shallow learning from d...</td>\n",
              "      <td>Is there a universally agreed upon threshold of depth that divides shallow l...</td>\n",
              "      <td>no</td>\n",
              "      <td>no universally agreedupon threshold of depth</td>\n",
              "      <td>deep models cap are able to extract better features than shallow models</td>\n",
              "    </tr>\n",
              "    <tr>\n",
              "      <th>2</th>\n",
              "      <td>deep learning is modern variation which is concerned with an unbounded numbe...</td>\n",
              "      <td>What is modern variation concerned with an unbounded number of layers of bou...</td>\n",
              "      <td>deep learning</td>\n",
              "      <td>deep learning</td>\n",
              "      <td>deep learning</td>\n",
              "    </tr>\n",
              "    <tr>\n",
              "      <th>3</th>\n",
              "      <td>deep learning is modern variation which is concerned with an unbounded numbe...</td>\n",
              "      <td>Under what conditions does deep learning retain theoretical universality?</td>\n",
              "      <td>mild</td>\n",
              "      <td>mild conditions</td>\n",
              "      <td>mild</td>\n",
              "    </tr>\n",
              "    <tr>\n",
              "      <th>4</th>\n",
              "      <td>in deep learning the layers are also permitted to be heterogeneous and to de...</td>\n",
              "      <td>What are layers allowed to deviate widely from biologically informed connect...</td>\n",
              "      <td>the structured part</td>\n",
              "      <td>to be heterogeneous</td>\n",
              "      <td>heterogeneous</td>\n",
              "    </tr>\n",
              "  </tbody>\n",
              "</table>\n",
              "</div>\n",
              "      <button class=\"colab-df-convert\" onclick=\"convertToInteractive('df-0b4c10eb-fdbc-4ae4-88ea-3c5f8015ed94')\"\n",
              "              title=\"Convert this dataframe to an interactive table.\"\n",
              "              style=\"display:none;\">\n",
              "        \n",
              "  <svg xmlns=\"http://www.w3.org/2000/svg\" height=\"24px\"viewBox=\"0 0 24 24\"\n",
              "       width=\"24px\">\n",
              "    <path d=\"M0 0h24v24H0V0z\" fill=\"none\"/>\n",
              "    <path d=\"M18.56 5.44l.94 2.06.94-2.06 2.06-.94-2.06-.94-.94-2.06-.94 2.06-2.06.94zm-11 1L8.5 8.5l.94-2.06 2.06-.94-2.06-.94L8.5 2.5l-.94 2.06-2.06.94zm10 10l.94 2.06.94-2.06 2.06-.94-2.06-.94-.94-2.06-.94 2.06-2.06.94z\"/><path d=\"M17.41 7.96l-1.37-1.37c-.4-.4-.92-.59-1.43-.59-.52 0-1.04.2-1.43.59L10.3 9.45l-7.72 7.72c-.78.78-.78 2.05 0 2.83L4 21.41c.39.39.9.59 1.41.59.51 0 1.02-.2 1.41-.59l7.78-7.78 2.81-2.81c.8-.78.8-2.07 0-2.86zM5.41 20L4 18.59l7.72-7.72 1.47 1.35L5.41 20z\"/>\n",
              "  </svg>\n",
              "      </button>\n",
              "      \n",
              "  <style>\n",
              "    .colab-df-container {\n",
              "      display:flex;\n",
              "      flex-wrap:wrap;\n",
              "      gap: 12px;\n",
              "    }\n",
              "\n",
              "    .colab-df-convert {\n",
              "      background-color: #E8F0FE;\n",
              "      border: none;\n",
              "      border-radius: 50%;\n",
              "      cursor: pointer;\n",
              "      display: none;\n",
              "      fill: #1967D2;\n",
              "      height: 32px;\n",
              "      padding: 0 0 0 0;\n",
              "      width: 32px;\n",
              "    }\n",
              "\n",
              "    .colab-df-convert:hover {\n",
              "      background-color: #E2EBFA;\n",
              "      box-shadow: 0px 1px 2px rgba(60, 64, 67, 0.3), 0px 1px 3px 1px rgba(60, 64, 67, 0.15);\n",
              "      fill: #174EA6;\n",
              "    }\n",
              "\n",
              "    [theme=dark] .colab-df-convert {\n",
              "      background-color: #3B4455;\n",
              "      fill: #D2E3FC;\n",
              "    }\n",
              "\n",
              "    [theme=dark] .colab-df-convert:hover {\n",
              "      background-color: #434B5C;\n",
              "      box-shadow: 0px 1px 3px 1px rgba(0, 0, 0, 0.15);\n",
              "      filter: drop-shadow(0px 1px 2px rgba(0, 0, 0, 0.3));\n",
              "      fill: #FFFFFF;\n",
              "    }\n",
              "  </style>\n",
              "\n",
              "      <script>\n",
              "        const buttonEl =\n",
              "          document.querySelector('#df-0b4c10eb-fdbc-4ae4-88ea-3c5f8015ed94 button.colab-df-convert');\n",
              "        buttonEl.style.display =\n",
              "          google.colab.kernel.accessAllowed ? 'block' : 'none';\n",
              "\n",
              "        async function convertToInteractive(key) {\n",
              "          const element = document.querySelector('#df-0b4c10eb-fdbc-4ae4-88ea-3c5f8015ed94');\n",
              "          const dataTable =\n",
              "            await google.colab.kernel.invokeFunction('convertToInteractive',\n",
              "                                                     [key], {});\n",
              "          if (!dataTable) return;\n",
              "\n",
              "          const docLinkHtml = 'Like what you see? Visit the ' +\n",
              "            '<a target=\"_blank\" href=https://colab.research.google.com/notebooks/data_table.ipynb>data table notebook</a>'\n",
              "            + ' to learn more about interactive tables.';\n",
              "          element.innerHTML = '';\n",
              "          dataTable['output_type'] = 'display_data';\n",
              "          await google.colab.output.renderOutput(dataTable, element);\n",
              "          const docLink = document.createElement('div');\n",
              "          docLink.innerHTML = docLinkHtml;\n",
              "          element.appendChild(docLink);\n",
              "        }\n",
              "      </script>\n",
              "    </div>\n",
              "  </div>\n",
              "  "
            ]
          },
          "metadata": {},
          "execution_count": 49
        }
      ]
    },
    {
      "cell_type": "code",
      "source": [
        "# path = '/content/drive/My Drive/DeepLearning_qna.csv'\n",
        "\n",
        "# with open(path, 'w', encoding = 'utf-8-sig') as f:\n",
        "#   df.to_csv(f, index = False)"
      ],
      "metadata": {
        "id": "jk_b1ZMVVZF9"
      },
      "execution_count": null,
      "outputs": []
    }
  ]
}